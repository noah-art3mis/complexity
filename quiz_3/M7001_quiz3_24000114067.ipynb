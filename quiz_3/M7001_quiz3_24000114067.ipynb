{
 "cells": [
  {
   "cell_type": "markdown",
   "metadata": {},
   "source": [
    "# Quiz 3\n",
    "\n",
    "LIS MASc  \n",
    "Engaging Complexity\n",
    "\n",
    "Access this notebook on [GitHub](https://github.com/noah-art3mis/complexity/)  \n",
    "PDF generated using [nbconvert](https://nbconvert.readthedocs.io/en/latest/index.html)\n"
   ]
  },
  {
   "cell_type": "code",
   "execution_count": 1,
   "metadata": {},
   "outputs": [],
   "source": [
    "import numpy as np\n",
    "import matplotlib.pyplot as plt\n",
    "\n",
    "# plt.style.use(\"fivethirtyeight\")"
   ]
  },
  {
   "cell_type": "markdown",
   "metadata": {},
   "source": [
    "## 1\n"
   ]
  },
  {
   "cell_type": "code",
   "execution_count": 2,
   "metadata": {},
   "outputs": [],
   "source": [
    "RULESET = {\n",
    "    '111': 0,\n",
    "    '011': 1,\n",
    "    '101': 0,\n",
    "    '001': 1,\n",
    "    '110': 0,\n",
    "    '010': 0,\n",
    "    '100': 1,\n",
    "    '000': 1\n",
    " }"
   ]
  },
  {
   "cell_type": "markdown",
   "metadata": {},
   "source": [
    "Putting these in order, we get:"
   ]
  },
  {
   "cell_type": "code",
   "execution_count": 3,
   "metadata": {},
   "outputs": [],
   "source": [
    "ORDERED = {\n",
    "    '111': 0,\n",
    "    '110': 0,\n",
    "    '101': 0,\n",
    "    '100': 1,\n",
    "    '011': 1,\n",
    "    '010': 0,\n",
    "    '001': 1,\n",
    "    '000': 1\n",
    " }"
   ]
  },
  {
   "cell_type": "code",
   "execution_count": 4,
   "metadata": {},
   "outputs": [
    {
     "name": "stdout",
     "output_type": "stream",
     "text": [
      "This is rule 27\n"
     ]
    }
   ],
   "source": [
    "def get_rule_name(ruleset):\n",
    "    rule = ''.join(str(x) for x in ruleset.values())\n",
    "    return int(rule, 2)\n",
    "\n",
    "print(f'This is rule {get_rule_name(ORDERED)}')"
   ]
  },
  {
   "cell_type": "markdown",
   "metadata": {},
   "source": [
    "Let's calculate and plot it."
   ]
  },
  {
   "cell_type": "code",
   "execution_count": 5,
   "metadata": {},
   "outputs": [],
   "source": [
    "def make_grid(rows, cols):\n",
    "    grid = [[0 for _ in range(cols)] for _ in range(rows)]\n",
    "    grid[0][int(cols/2)] = 1 # set seed\n",
    "    return grid "
   ]
  },
  {
   "cell_type": "code",
   "execution_count": 6,
   "metadata": {},
   "outputs": [],
   "source": [
    "def update_grid(grid, ruleset):\n",
    "    # skip first row since it is the seed\n",
    "    for i in range(1, len(grid[0])):\n",
    "        # apply the ruleset to the previous row\n",
    "        grid[i] = apply_ruleset(grid[i - 1], ruleset)\n",
    "        \n",
    "def apply_ruleset(row: list, ruleset) -> list:\n",
    "    next_row = []\n",
    "    \n",
    "    for i in range(len(row)):\n",
    "\n",
    "        # this handles the edges as if they were connected \n",
    "        l = row[(i - 1 + len(row)) % len(row)]\n",
    "        x = row[i]\n",
    "        r = row[(i + 1 + len(row)) % len(row)]\n",
    "        \n",
    "        kernel_state = str(l) + str(x) + str(r)\n",
    "                \n",
    "        result = ruleset.get(kernel_state, np.nan)\n",
    "        \n",
    "        next_row.append(result)\n",
    "   \n",
    "    return next_row"
   ]
  },
  {
   "cell_type": "code",
   "execution_count": 7,
   "metadata": {},
   "outputs": [],
   "source": [
    "import matplotlib.pyplot as plt\n",
    "\n",
    "def plot_grid(grid, name):\n",
    "    plt.figure(figsize=(2,2))\n",
    "    plt.imshow(grid, cmap=\"gray_r\", interpolation=\"nearest\")\n",
    "    plt.axis('off')\n",
    "    plt.title(f\"Rule {name}\");\n",
    "    "
   ]
  },
  {
   "cell_type": "code",
   "execution_count": 8,
   "metadata": {},
   "outputs": [
    {
     "data": {
      "image/png": "[encoded data removed]",
      "text/plain": [
       "<Figure size 200x200 with 1 Axes>"
      ]
     },
     "metadata": {},
     "output_type": "display_data"
    }
   ],
   "source": [
    "ROWS = 20\n",
    "COLS = 20\n",
    "\n",
    "grid = make_grid(ROWS, COLS)\n",
    "update_grid(grid, ORDERED)\n",
    "plot_grid(grid, get_rule_name(ORDERED))"
   ]
  },
  {
   "cell_type": "code",
   "execution_count": 9,
   "metadata": {},
   "outputs": [
    {
     "data": {
      "image/png": "[encoded data removed]",
      "text/plain": [
       "<Figure size 200x200 with 1 Axes>"
      ]
     },
     "metadata": {},
     "output_type": "display_data"
    }
   ],
   "source": [
    "ROWS = 200\n",
    "COLS = 200\n",
    "\n",
    "EXTRA = {\n",
    "    '111': 0,\n",
    "    '110': 0,\n",
    "    '101': 0,\n",
    "    '100': 1,\n",
    "    '011': 1,\n",
    "    '010': 1,\n",
    "    '001': 1,\n",
    "    '000': 0\n",
    " }\n",
    "\n",
    "grid = make_grid(ROWS, COLS)\n",
    "update_grid(grid, EXTRA)\n",
    "plot_grid(grid, get_rule_name(EXTRA))"
   ]
  },
  {
   "cell_type": "markdown",
   "metadata": {},
   "source": [
    "## 2\n",
    "\n",
    "### a)\n",
    "\n",
    "The number of squares ($N$) added each iteration ($N_n$) can be counted in the picture as:\n",
    "\n",
    "$N_1$ = 0 = 4 * 0\n",
    "\n",
    "$N_2$ = 4 = 4 * 1\n",
    "\n",
    "$N_3$ = 12 = 4 * 3 \n",
    "\n",
    "$N_4$ = 36 = 4 * 9 \n",
    "\n",
    "In a general form:\n",
    "\n",
    "$$N_n = 3^{n-2} \\cdot 4, \\quad{n > 1}$$\n",
    "\n",
    "Thus, for $n = 4$:\n",
    "\n",
    "$N_n = 3^{n-2} \\cdot 4$\n",
    "\n",
    "$N_4 = 3^{4-2} \\cdot 4$\n",
    "\n",
    "$N_4 = 9 \\cdot 4$\n",
    "\n",
    "$N_4 = 36$\n",
    "\n",
    "$S_4$ has $36$ new squares.\n",
    "\n",
    "\n",
    "The side of of the squares ($L_n$) added each iteration can be thought of as such:\n",
    "\n",
    "$L_1 = a$\n",
    "\n",
    "$L_2 = \\frac{a}{3}$\n",
    "\n",
    "$L_3 = \\frac{a}{9}$\n",
    "\n",
    "Or, in a general form:\n",
    "\n",
    "$$L_n = \\frac{a}{3^{n - 1}}, \\quad{n > 0}$$\n",
    "\n",
    "Thus, for $n = 4$:\n",
    "\n",
    "$L_n = \\frac{a}{3^{n - 1}}$\n",
    "\n",
    "$L_4 = \\frac{a}{3^{4 - 1}}$\n",
    "\n",
    "$L_4 = \\frac{a}{27}$\n",
    "\n",
    "$S_4$ has new squares with side $\\frac{a}{27}$\n"
   ]
  },
  {
   "cell_type": "markdown",
   "metadata": {},
   "source": [
    "\n",
    "### b)\n",
    "\n",
    "We can imagine the process of adding a new square as the square being extruded from its corresponding face. This means that we are adding two new sides with 1/3 of the dimensions of the previous side. (Another way to think of this would me imagining that the square removes one face from the previous square, while also adding 3 new ones; This effectively adds 2 new faces of length $a/3$). Representing this as a recursive function, we have:\n",
    "\n",
    "$L_2 = L_1 + 2 \\cdot \\frac{L_1}{3}$\n",
    "\n",
    "$L_3 = L_2 + 3 \\cdot 2 \\cdot \\frac{L_1}{9}$\n",
    "\n",
    "where $L_n$ is the length of one of the sides of the square in a given iteration $S_n$. The $3$ in the second equation represents the number of squares added to a given side.\n",
    "\n",
    "Considering $L_1 = a$, we have\n",
    "\n",
    "$L_2 = a + \\frac{2a}{3}$\n",
    "\n",
    "$L_2 = \\frac{5a}{3}$\n",
    "\n",
    "Since we want the perimeter and the shape is a square, we multiply the length of the side by four, giving us.\n",
    "\n",
    "$$P_2 = \\frac{20a}{3}$$\n",
    "\n",
    "With this value, we can now simplify the equation of the next iteration as well:\n",
    "\n",
    "$L_3 = L_2 + 3 \\cdot 2 \\cdot \\frac{L_1}{9}$\n",
    "\n",
    "$L_3 = \\frac{5a}{3} + \\frac{6a}{9}$\n",
    "\n",
    "$L_3 = \\frac{7a}{3}$\n",
    "\n",
    "\n",
    "Since we are looking for the perimiter, we get:\n",
    "\n",
    "$P_3 = \\frac{7a}{3} \\cdot 4$\n",
    "\n",
    "or\n",
    "\n",
    "$$P_3 = \\frac{28a}{3}$$\n",
    "\n",
    "\n"
   ]
  },
  {
   "cell_type": "markdown",
   "metadata": {},
   "source": [
    "\n",
    "### c)\n",
    "\n",
    "Considering the information from the previous section and rearranging the terms to look similar, we have:\n",
    "\n",
    "$L_2 = L_1 + 3^0 \\cdot 2 \\cdot \\frac{L_1}{3^1}$\n",
    "\n",
    "$L_3 = L_2 + 3^1 \\cdot 2 \\cdot \\frac{L_1}{3^2}$\n",
    "\n",
    "by doing this we can infer a general formula:\n",
    "\n",
    "$L_n = L_{n-1} + 3^{n-2} \\cdot 2 \\cdot \\frac{L_1}{3^{n-1}}$\n",
    "\n",
    "We want to find the perimeter ($P_n$). We can find that by multiplying the length of the sides by the number of sides (four, since this is a square). We only do this on the right side of the equation; since this is a recursive function, the previous iteration was already multiplied by the number of sides. In that way, we get\n",
    "\n",
    "$P_n = P_{n-1} + 3^{n-2} \\cdot 2 \\cdot \\frac{L_1}{3^{n-1}} \\cdot 4$\n",
    "\n",
    "Which we can simplify in the following way:\n",
    "\n",
    "$P_n = P_{n-1} + \\frac{3^{n-2} \\cdot 8L_1}{3^{n-1}}$\n",
    "\n",
    "$P_n = P_{n-1} + 8L_1 \\cdot \\frac{3^{n-2}}{3^{n-1}}$\n",
    "\n",
    "$P_n = P_{n-1} + 8L_1 \\cdot 3^{n-2-n+1}$\n",
    "\n",
    "$P_n = P_{n-1} + 8L_1 \\cdot 3^{-1}$\n",
    "\n",
    "$P_n = P_{n-1} + 2L_1 \\cdot \\frac{4}{3}$\n",
    "\n",
    "Since $L_1 = a$, we represent the formula for calculating the perimeter of a given iteration ($S_n$) by\n",
    "\n",
    "$$P_n = P_{n-1} + 2a \\cdot \\frac{4}{3}, \\quad{n > 1}$$\n",
    "\n",
    "$n$ cannot be lower than $2$ as it would represent a fractional number of new squares, which is impossible. We leave the 4/3 isolated as it is a common ratio that emerges in complexity science ([Mitchell, 2009](https://academic.oup.com/book/51004)).\n",
    "\n",
    "Checking the previous results:\n",
    "\n",
    "$P_1 = 4a$\n",
    "\n",
    "$P_2 = P_{1} + \\frac{8a}{3}$\n",
    "\n",
    "$P_2 = 4a + \\frac{8a}{3}$\n",
    "\n",
    "$P_2 = \\frac{12 + 8a}{3}$\n",
    "\n",
    "$$P_2 = \\frac{20a}{3}$$\n",
    "\n",
    "and \n",
    "\n",
    "$P_3 = P_{2} + \\frac{8a}{3}$\n",
    "\n",
    "$P_3 = \\frac{20a}{3} + \\frac{8a}{3}$\n",
    "\n",
    "$$P_3 = \\frac{28a}{3}$$\n"
   ]
  },
  {
   "cell_type": "markdown",
   "metadata": {},
   "source": [
    "\n",
    "### d)\n",
    "\n",
    "$$P_n = P_{n-1} + 2a \\cdot \\frac{4}{3}, \\quad{n > 1}$$\n",
    "\n",
    "$a$ is a length, so it will always be a positive number. Since the first iteration is always positive and the next iterations will multiply it by ~2.6 and sum it to the previous value, it will increase forever in a linear fashion. \n",
    "\n",
    "We can verify this using a plot:"
   ]
  },
  {
   "cell_type": "code",
   "execution_count": 10,
   "metadata": {},
   "outputs": [
    {
     "data": {
      "image/png": "[encoded data removed]",
      "text/plain": [
       "<Figure size 640x480 with 1 Axes>"
      ]
     },
     "metadata": {},
     "output_type": "display_data"
    }
   ],
   "source": [
    "def perimeter(previous: float, a: float = 1) -> float:\n",
    "    return previous + (2 * a * 4/3)\n",
    "\n",
    "L_1 = 1\n",
    "xy = dict()\n",
    "xy[0] = perimeter(L_1)\n",
    "\n",
    "for i in range(1, 101):\n",
    "    previous = xy[i-1]\n",
    "    xy[i] = perimeter(previous)\n",
    "\n",
    "plt.plot(xy.keys(), xy.values());"
   ]
  },
  {
   "cell_type": "markdown",
   "metadata": {},
   "source": [
    "\n",
    "### e)\n",
    "\n",
    "The area ($A_n$) of an iteration ($S_n$) is given by the area of the previous iteration plus the area of a new square multiplied by the number of new squares. \n",
    "\n",
    "$$A_n = A_{n-1} + s_n^2 \\cdot N_n$$\n",
    "\n",
    "$s_n$ is the side of a new square. With the information given:\n",
    "\n",
    "$s_1 = a$\n",
    "\n",
    "$s_2 = a/3$\n",
    "\n",
    "$s_3 = a/9$\n",
    "\n",
    "By this, we can infer that\n",
    "\n",
    "$$s_n = a/3^{n-1}$$\n",
    "\n",
    "$N_n$ is the number of new squares in a given iteration. With the information given:\n",
    "\n",
    "$N_2 = 4$\n",
    "\n",
    "$N_3 = 12$\n",
    "\n",
    "From which we can infer that \n",
    "\n",
    "$$N_n = 4 \\cdot 3^{n-2}$$\n",
    "\n",
    "Substituting:\n",
    "\n",
    "$A_n = A_{n-1} + (a/3^{n-1})^2 \\cdot 4 \\cdot 3^{n-2}$\n",
    "\n",
    "$A_n = A_{n-1} + 4a^2 \\cdot \\frac{3^{n-2}}{3^{2n-2}}$\n",
    "\n",
    "$A_n = A_{n-1} + 4a^2 \\cdot 3^{n-2-2n+2}$\n",
    "\n",
    "$A_n = A_{n-1} + 4a^2 \\cdot 3^{-n}$\n",
    "\n",
    "Which gives us \n",
    "\n",
    "$$A_n = A_{n-1} + \\frac{4a^2}{3^n}$$\n",
    "\n",
    "The area of $S_1$ is $a^2$, as it went through no iterations of the function and its side is of length $a$. Given that,\n",
    "\n",
    "$A_2 = A_{1} + \\frac{4a^2}{3^{1}}$\n",
    "\n",
    "$A_2 = a^2 + \\frac{4a^2}{3}$\n",
    "\n",
    "$A_2 = \\frac{3a^2}{3} + \\frac{4a^2}{3}$\n",
    "\n",
    "$$A_2 = \\frac{7a^2}{3}$$\n",
    "\n",
    "and \n",
    "\n",
    "$A_3 = A_{2} + \\frac{4a^2}{3^{2}}$\n",
    "\n",
    "$A_3 = \\frac{7a^2}{3} + \\frac{4a^2}{9}$\n",
    "\n",
    "$A_3 = \\frac{21a^2}{9} + \\frac{4a^2}{9}$\n",
    "\n",
    "$$A_3 = \\frac{25a^2}{9}$$"
   ]
  },
  {
   "cell_type": "markdown",
   "metadata": {},
   "source": [
    "### f)"
   ]
  },
  {
   "cell_type": "markdown",
   "metadata": {},
   "source": [
    "Considering that\n",
    "\n",
    "$A_n = A_{n-1} + \\frac{4a^2}{3^{n}}$\n",
    "\n",
    "$A_2 = A_{1} + \\frac{4a^2}{3^{2}}$\n",
    "\n",
    "$A_3 = A_{2} + \\frac{4a^2}{3^{3}}$\n",
    "\n",
    "$A_4 = A_{4} + \\frac{4a^2}{3^{4}}$\n",
    "\n",
    "We can organize this as an infinite series.\n",
    "\n",
    "$A_4 = a^2 + \\frac{4a^2}{3^{1}} + \\frac{4a^2}{3^{2}} + \\frac{4a^2}{3^{3}} + \\frac{4a^2}{3^{4}}$\n",
    "\n",
    "$A_n = a^2 + \\frac{4a^2}{3^{1}} + \\frac{4a^2}{3^{2}} + \\frac{4a^2}{3^{3}} + \\cdots$\n",
    "\n",
    "$A_n = a^2 (1 + \\frac{4}{3^{1}} + \\frac{4}{3^{2}} + \\frac{4}{3^{3}} + \\cdots)$\n",
    "\n",
    "Using sigma notation:\n",
    "\n",
    "$$\n",
    "A_n = a^2 \\left(1 + \\sum_{k=1}^\\infty \\frac{4}{3^k}\\right)\n",
    "$$\n",
    "\n",
    "The sum of an infinite geometric series is given by\n",
    "\n",
    "$$sum = \\frac{a}{1 - r}$$\n",
    "\n",
    "where $a$ is the first term and and $r$ is the number that is being multiplied. Substituting:\n",
    "\n",
    "$\\sum_{k=1}^\\infty \\frac{4}{3^k} = \\frac{4/3}{1 - 1/3} = \\frac{\\frac{4}{3}}{\\frac{2}{3}} = \\frac{4}{3} \\cdot \\frac{3}{2} = 2$\n",
    "\n",
    "$A_n = a^2 (1 + 2)$\n",
    "\n",
    "$$A_n = 3a^2$$\n",
    "\n",
    "$$S = 3$$\n"
   ]
  },
  {
   "cell_type": "markdown",
   "metadata": {},
   "source": [
    "We can find that value by assuming that $a = 1$. A plot might help here as well"
   ]
  },
  {
   "cell_type": "code",
   "execution_count": 11,
   "metadata": {},
   "outputs": [
    {
     "data": {
      "image/png": "[encoded data removed]",
      "text/plain": [
       "<Figure size 640x480 with 1 Axes>"
      ]
     },
     "metadata": {},
     "output_type": "display_data"
    }
   ],
   "source": [
    "def area(previous: float, n: int, a: float) -> float:\n",
    "    return previous + (4 * a * a * 1/3**n)\n",
    "\n",
    "a = 1\n",
    "results = dict()\n",
    "results[0] = a**2\n",
    "\n",
    "for n in range(1, 101):\n",
    "    results[n] = area(results[n-1], n, a)\n",
    "\n",
    "plt.plot(results.keys(), results.values());"
   ]
  },
  {
   "cell_type": "code",
   "execution_count": 12,
   "metadata": {},
   "outputs": [
    {
     "data": {
      "text/plain": [
       "3.0000000000000013"
      ]
     },
     "execution_count": 12,
     "metadata": {},
     "output_type": "execute_result"
    }
   ],
   "source": [
    "results[100]"
   ]
  },
  {
   "cell_type": "markdown",
   "metadata": {},
   "source": [
    "---\n",
    "\n",
    "Generate pdf from .ipynb"
   ]
  },
  {
   "cell_type": "code",
   "execution_count": 13,
   "metadata": {},
   "outputs": [
    {
     "name": "stdout",
     "output_type": "stream",
     "text": [
      "[NbConvertApp] Converting notebook M7001_quiz3_24000114067.ipynb to webpdf\n",
      "[NbConvertApp] WARNING | Alternative text is missing on 4 image(s).\n",
      "[NbConvertApp] Building PDF\n",
      "[NbConvertApp] PDF successfully created\n",
      "[NbConvertApp] Writing 171924 bytes to M7001_quiz3_24000114067.pdf\n"
     ]
    }
   ],
   "source": [
    "!jupyter nbconvert M7001_quiz3_24000114067.ipynb --to webpdf --LatexPreprocessor.date \"\"\n",
    "\n",
    "# !jupyter nbconvert M7001_quiz3_24000114067.ipynb --to pdf --LatexPreprocessor.date \"\""
   ]
  }
 ],
 "metadata": {
  "kernelspec": {
   "display_name": ".venv",
   "language": "python",
   "name": "python3"
  },
  "language_info": {
   "codemirror_mode": {
    "name": "ipython",
    "version": 3
   },
   "file_extension": ".py",
   "mimetype": "text/x-python",
   "name": "python",
   "nbconvert_exporter": "python",
   "pygments_lexer": "ipython3",
   "version": "3.10.12"
  }
 },
 "nbformat": 4,
 "nbformat_minor": 2
}
